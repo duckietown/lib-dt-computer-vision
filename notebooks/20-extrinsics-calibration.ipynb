{
 "cells": [
  {
   "cell_type": "markdown",
   "metadata": {},
   "source": [
    "# Extrinsics Calibration"
   ]
  },
  {
   "cell_type": "code",
   "execution_count": null,
   "metadata": {
    "pycharm": {
     "name": "#%%\n"
    }
   },
   "outputs": [],
   "source": [
    "%load_ext autoreload\n",
    "%autoreload 2\n",
    "\n",
    "import os\n",
    "import cv2\n",
    "import numpy as np\n",
    "\n",
    "from typing import List\n",
    "\n",
    "import matplotlib.pyplot as plt\n",
    "\n",
    "from dt_computer_vision.camera import CameraModel, Pixel\n",
    "\n",
    "from dt_computer_vision.camera.calibration.extrinsics.boards import CalibrationBoard8by6\n",
    "from dt_computer_vision.camera.calibration.extrinsics.chessboard import find_corners\n",
    "from dt_computer_vision.camera.calibration.extrinsics.rendering import draw_corners"
   ]
  },
  {
   "cell_type": "code",
   "execution_count": null,
   "metadata": {
    "collapsed": false,
    "jupyter": {
     "outputs_hidden": false
    },
    "pycharm": {
     "name": "#%%\n"
    }
   },
   "outputs": [],
   "source": [
    "this_dir: str = os.path.abspath('')\n",
    "assets_dir: str = os.path.join(this_dir, \"..\", \"assets\")\n",
    "image_fpath: str = os.path.join(assets_dir, f\"image1.jpg\")\n",
    "image: np.ndarray = cv2.imread(image_fpath)\n",
    "board = CalibrationBoard8by6\n",
    "\n",
    "camera_properties = {\n",
    "    \"width\": 640,\n",
    "    \"height\": 480,\n",
    "    \"K\": [[295.79606866959824, 0.0, 321.2621599038631],\n",
    "          [0.0, 299.5389048862878, 241.73616515312332],\n",
    "          [0.0, 0.0, 1.0]],\n",
    "    \"D\": [-0.23543978771661125,\n",
    "          0.03637781479419574,\n",
    "          -0.0033069818601306755,\n",
    "          -0.0012140708179525926,\n",
    "          0.0],\n",
    "    \"P\": [[201.14027404785156, 0.0, 319.5586620845679, 0.0],\n",
    "          [0.0, 239.74398803710938, 237.60151004037834, 0.0],\n",
    "          [0.0, 0.0, 1.0, 0.0]]\n",
    "}\n",
    "camera = CameraModel(**camera_properties)\n",
    "\n",
    "assert image.shape == (480, 640, 3)"
   ]
  },
  {
   "cell_type": "code",
   "execution_count": null,
   "metadata": {
    "collapsed": false,
    "jupyter": {
     "outputs_hidden": false
    },
    "pycharm": {
     "name": "#%%\n"
    }
   },
   "outputs": [],
   "source": [
    "# rectify image\n",
    "image_rect = camera.rectifier.rectify(image)\n",
    "rectified = cv2.cvtColor(image_rect, cv2.COLOR_BGR2RGB)\n",
    "plt.imshow(rectified)"
   ]
  },
  {
   "cell_type": "code",
   "execution_count": null,
   "metadata": {
    "pycharm": {
     "name": "#%%\n"
    }
   },
   "outputs": [],
   "source": [
    "# find corners\n",
    "corners: List[Pixel] = find_corners(image_rect, board)\n",
    "print(f\"Found {len(corners)} corners.\")\n",
    "assert len(corners) == (board.columns) * (board.rows)"
   ]
  },
  {
   "cell_type": "code",
   "execution_count": null,
   "metadata": {
    "pycharm": {
     "name": "#%%\n"
    }
   },
   "outputs": [],
   "source": [
    "# draw detected corners on top of the image\n",
    "image_w_corners = draw_corners(image_rect, board, corners)\n",
    "image_w_corners_rgb = cv2.cvtColor(image_w_corners, cv2.COLOR_BGR2RGB)\n",
    "plt.imshow(image_w_corners_rgb)"
   ]
  },
  {
   "cell_type": "code",
   "execution_count": null,
   "metadata": {
    "collapsed": false,
    "jupyter": {
     "outputs_hidden": false
    },
    "pycharm": {
     "name": "#%%\n"
    }
   },
   "outputs": [],
   "source": [
    "# estimate homography\n",
    "from dt_computer_vision.camera.calibration.extrinsics.ransac import estimate_homography\n",
    "\n",
    "H = estimate_homography(corners, board, camera)\n",
    "\n",
    "print(H)"
   ]
  },
  {
   "cell_type": "code",
   "execution_count": null,
   "metadata": {
    "collapsed": false,
    "jupyter": {
     "outputs_hidden": false
    },
    "pycharm": {
     "name": "#%%\n"
    }
   },
   "outputs": [],
   "source": [
    "# project the principal point onto the plane\n",
    "ground_pp = np.dot(H, [0, 0, 1])\n",
    "ground_pp = (ground_pp / ground_pp[2])[:2]\n",
    "# manually measured when the image above was taken\n",
    "# TODO: fix this\n",
    "expected_pp = [0.4, 0]\n",
    "\n",
    "# compute error estimate\n",
    "pp_error = np.linalg.norm(ground_pp - expected_pp)\n",
    "print(f\"Error is ~{pp_error * 100:.2f}cm.\")\n",
    "\n",
    "# make sure the error is within 3cm\n",
    "# assert pp_error <= 0.03"
   ]
  },
  {
   "cell_type": "markdown",
   "metadata": {
    "collapsed": false,
    "jupyter": {
     "outputs_hidden": false
    },
    "pycharm": {
     "name": "#%% md\n"
    }
   },
   "source": [
    "# Ground Reprojection"
   ]
  },
  {
   "cell_type": "code",
   "execution_count": null,
   "metadata": {
    "collapsed": false,
    "jupyter": {
     "outputs_hidden": false
    },
    "pycharm": {
     "name": "#%%\n"
    }
   },
   "outputs": [],
   "source": [
    "from typing import List\n",
    "from dt_computer_vision.camera.calibration.extrinsics.chessboard import get_ground_corners_and_error, compute_placement_error\n",
    "\n",
    "from dt_computer_vision.camera import NormalizedImagePoint\n",
    "from dt_computer_vision.ground_projection import GroundPoint\n",
    "\n",
    "image_corners: List[NormalizedImagePoint]\n",
    "ground_corners: List[GroundPoint]\n",
    "ground_corners_projected: List[GroundPoint]\n",
    "errors: List[float]\n",
    "\n",
    "image_corners, ground_corners, ground_corners_projected, errors = get_ground_corners_and_error(camera, corners, board, H)\n",
    "\n",
    "for i, (image_corner, ground_corner, ground_corner_projected, error) in enumerate(zip(image_corners, ground_corners, ground_corners_projected, errors)):\n",
    "    # print out (image point, ground computed, and ground oracle) points\n",
    "    print(f\"{i}\\t: I[{image_corner}] -> Gc[{ground_corner_projected}] ~ G[{ground_corner}]: {float(error):.4f}m\")\n",
    "\n",
    "# compute average error\n",
    "avg_error = np.average(errors)\n",
    "std_error = np.std(errors)\n",
    "print(f\"Overall error: {avg_error:.4f}m +/- {std_error:.4f}m\")\n",
    "\n",
    "# find all corners that are on the X and Y axis of the calibration pattern (the lines partitioning the board into 4 equal quadrants)\n",
    "placement_error: float = compute_placement_error(corners, board, errors)\n",
    "print(f\"Placement error: {placement_error:.4f}m\")"
   ]
  },
  {
   "cell_type": "markdown",
   "metadata": {
    "collapsed": false,
    "jupyter": {
     "outputs_hidden": false
    },
    "pycharm": {
     "name": "#%%\n"
    }
   },
   "source": [
    "# GUI"
   ]
  },
  {
   "cell_type": "code",
   "execution_count": null,
   "metadata": {
    "collapsed": false,
    "jupyter": {
     "outputs_hidden": false
    },
    "pycharm": {
     "name": "#%%\n"
    }
   },
   "outputs": [],
   "source": [
    "from matplotlib.pyplot import figure\n",
    "\n",
    "from dt_computer_vision.camera.calibration.extrinsics.rendering import draw_gui, top_view_projected_corners\n",
    "from dt_computer_vision.ground_projection.rendering import draw_grid_image"
   ]
  },
  {
   "cell_type": "code",
   "execution_count": null,
   "metadata": {},
   "outputs": [],
   "source": [
    "fig = figure(figsize=(32, 18), dpi=96)\n",
    "\n",
    "right = top_view_projected_corners(\n",
    "    ground_corners,\n",
    "    errors,\n",
    "    (560, 480),\n",
    "    start_y=0.15,\n",
    "    resolution=0.3,\n",
    "    grid_size=6\n",
    ")\n",
    "\n",
    "gui = draw_gui(False, image_w_corners, right, len(corners), board, avg_error, avg_error)\n",
    "\n",
    "gui = cv2.cvtColor(gui, cv2.COLOR_BGR2RGB)\n",
    "plt.imshow(gui)"
   ]
  }
 ],
 "metadata": {
  "celltoolbar": "Raw Cell Format",
  "kernelspec": {
   "display_name": "Python 3 (ipykernel)",
   "language": "python",
   "name": "python3"
  },
  "language_info": {
   "codemirror_mode": {
    "name": "ipython",
    "version": 3
   },
   "file_extension": ".py",
   "mimetype": "text/x-python",
   "name": "python",
   "nbconvert_exporter": "python",
   "pygments_lexer": "ipython3",
   "version": "3.8.10"
  }
 },
 "nbformat": 4,
 "nbformat_minor": 4
}
