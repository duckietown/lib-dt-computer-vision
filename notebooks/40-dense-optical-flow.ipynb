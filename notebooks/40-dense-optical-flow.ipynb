{
 "cells": [
  {
   "cell_type": "markdown",
   "metadata": {},
   "source": [
    "# Dense Optical Flow ()"
   ]
  },
  {
   "cell_type": "code",
   "execution_count": 9,
   "metadata": {},
   "outputs": [
    {
     "data": {
      "image/jpeg": "[encoded data removed]",
      "text/plain": [
       "<IPython.core.display.Image object>"
      ]
     },
     "metadata": {},
     "output_type": "display_data"
    },
    {
     "name": "stdout",
     "output_type": "stream",
     "text": [
      "No frames grabbed!\n"
     ]
    }
   ],
   "source": [
    "import os\n",
    "import time\n",
    "import numpy as np\n",
    "import cv2 as cv\n",
    "from IPython.display import display, clear_output\n",
    "from IPython.core.display import Image\n",
    "\n",
    "this_dir: str = os.path.abspath('')\n",
    "assets_dir: str = os.path.join(this_dir, \"..\", \"assets\")\n",
    "video_file_path = os.path.join(assets_dir, \"vtest.avi\")\n",
    "# Open the video using OpenCV\n",
    "cap = cv.VideoCapture(video_file_path)\n",
    "\n",
    "# Check if the video was successfully opened\n",
    "if not cap.isOpened():\n",
    "    print('Error: Could not open video.')\n",
    "    exit()\n",
    "\n",
    "# Read the first frame from the video\n",
    "ret, frame1 = cap.read()\n",
    "RESIZE_SCALE = 0.25\n",
    "frame1 = cv.resize(frame1, (0, 0), fx=RESIZE_SCALE, fy=RESIZE_SCALE)\n",
    "prvs = cv.cvtColor(frame1, cv.COLOR_BGR2GRAY)\n",
    "\n",
    "vis_framerate = 30\n",
    "\n",
    "hsv = np.zeros_like(frame1)\n",
    "hsv[..., 1] = 255\n",
    "while(1):\n",
    "    ret, frame2 = cap.read()\n",
    "    if not ret:\n",
    "        print('No frames grabbed!')\n",
    "        break\n",
    " \n",
    "    frame2 = cv.resize(frame2, (0, 0), fx=RESIZE_SCALE, fy=RESIZE_SCALE)\n",
    "    next = cv.cvtColor(frame2, cv.COLOR_BGR2GRAY)\n",
    "    # Shrink both frames to half their size for faster computation\n",
    "    \n",
    "    flow = cv.calcOpticalFlowFarneback(prvs, next, None, 0.5, 3, 15, 3, 5, 1.2, 0) # type: ignore\n",
    "    mag, ang = cv.cartToPolar(flow[..., 0], flow[..., 1])\n",
    "    hsv[..., 0] = ang*180/np.pi/2\n",
    "    hsv[..., 2] = cv.normalize(mag, None, 0, 255, cv.NORM_MINMAX) # type: ignore\n",
    "    bgr = cv.cvtColor(hsv, cv.COLOR_HSV2BGR)\n",
    "    \n",
    "    # Convert to jpeg data\n",
    "    _, buffer = cv.imencode('.jpg', bgr)\n",
    "    clear_output(wait=True)\n",
    "    # Display the frame until new frame is available\n",
    "    display(Image(buffer.tobytes()))\n",
    "    time.sleep(1/vis_framerate)"
   ]
  }
 ],
 "metadata": {
  "kernelspec": {
   "display_name": "Python 3",
   "language": "python",
   "name": "python3"
  },
  "language_info": {
   "codemirror_mode": {
    "name": "ipython",
    "version": 3
   },
   "file_extension": ".py",
   "mimetype": "text/x-python",
   "name": "python",
   "nbconvert_exporter": "python",
   "pygments_lexer": "ipython3",
   "version": "3.8.10"
  }
 },
 "nbformat": 4,
 "nbformat_minor": 2
}
